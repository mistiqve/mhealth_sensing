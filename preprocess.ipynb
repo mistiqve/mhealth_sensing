{
 "cells": [
  {
   "cell_type": "code",
   "execution_count": 54,
   "metadata": {},
   "outputs": [],
   "source": [
    "import datetime as dt\n",
    "import pandas as pd\n",
    "import numpy as np\n",
    "import matplotlib.pyplot as plt\n",
    "\n",
    "data_folder = \"\" # ROOT FOLDER CHANGE THIS\n",
    "\n",
    "hr_file = data_folder + \"Smartwatch_HeartRateDatum.csv\"\n",
    "acc_file = data_folder + \"Sensus_Accelerometer.csv\"\n",
    "loc_file = data_folder + \"Sensus_Location.csv\"\n",
    "\n",
    "def read_file(filename):\n",
    "    df = pd.read_csv(filename, header = 0)\n",
    "    df['Timestamp'] = pd.to_datetime(df['Timestamp'],\n",
    "                                    origin=\"unix\", \n",
    "                                    errors=\"coerce\")\n",
    "\n",
    "    return df"
   ]
  },
  {
   "cell_type": "code",
   "execution_count": 93,
   "metadata": {},
   "outputs": [
    {
     "name": "stdout",
     "output_type": "stream",
     "text": [
      "(310916351, 3)\n",
      "            Timestamp  PID    HR\n",
      "0 2009-01-01 08:01:10  4.0  82.0\n",
      "1 2009-01-01 08:01:11  4.0  82.0\n",
      "2 2009-01-01 08:01:12  4.0  83.0\n",
      "3 2009-01-01 08:01:13  4.0  84.0\n",
      "4 2009-01-01 08:01:14  4.0  84.0\n"
     ]
    }
   ],
   "source": [
    "hr_df = read_file(hr_file)[[\"participantid\",\"HR\",\"Timestamp\"]]\n",
    "hr_df.columns = ['PID', 'HR', \"Timestamp\"] # reset column name\n",
    "hr_df[['HR','PID']]=  hr_df[['HR','PID']].apply(pd.to_numeric,errors='coerce', downcast = \"float\") # change variable type\n",
    "hr_df.set_index(['Timestamp'], inplace=True) # set timestamp as index \n",
    "hr_df = hr_df.resample(\"S\").mean().reset_index() # resample by second\n",
    "print(hr_df.shape)\n",
    "print(hr_df[:5])"
   ]
  },
  {
   "cell_type": "code",
   "execution_count": 87,
   "metadata": {},
   "outputs": [
    {
     "name": "stdout",
     "output_type": "stream",
     "text": [
      "(356933, 5)\n",
      "            Timestamp  PID         X         Y         Z\n",
      "0 2018-11-01 22:10:32  9.0  0.392494  0.767774  0.398849\n",
      "1 2018-11-01 22:10:33  9.0  0.323512  0.944885  0.306236\n",
      "2 2018-11-01 22:10:34  9.0  0.298798  0.884627  0.274478\n",
      "3 2018-11-01 22:10:35  9.0  0.423917  0.867023  0.362699\n",
      "4 2018-11-01 22:10:36  9.0  0.353010  0.877254  0.351543\n"
     ]
    }
   ],
   "source": [
    "acc_df = read_file(acc_file)[[\"ParticipantId\",\"X\",\"Y\",\"Z\",\"Timestamp\"]]\n",
    "acc_df.columns = [\"PID\",\"X\",\"Y\",\"Z\",\"Timestamp\"] # reset column name\n",
    "acc_df[['PID','X','Y','Z']] = acc_df[['PID','X','Y','Z']].apply(pd.to_numeric,\n",
    "                                                errors='coerce', downcast = \"float\") # change variable type\n",
    "acc_df.set_index(['Timestamp'], inplace=True) # set timestamp as index \n",
    "acc_df = acc_df.resample(\"S\").mean().reset_index() # resample by second\n",
    "print(acc_df.shape)\n",
    "print(acc_df[:5])"
   ]
  },
  {
   "cell_type": "code",
   "execution_count": 99,
   "metadata": {},
   "outputs": [
    {
     "name": "stdout",
     "output_type": "stream",
     "text": [
      "(362164, 4)\n",
      "            Timestamp  PID  Latitude  Longitude\n",
      "0 2018-11-01 20:43:21  9.0  38.03196 -78.510094\n",
      "1 2018-11-01 20:43:22  9.0  38.03196 -78.510094\n",
      "2 2018-11-01 20:43:23  9.0  38.03196 -78.510094\n",
      "3 2018-11-01 20:43:24  NaN       NaN        NaN\n",
      "4 2018-11-01 20:43:25  NaN       NaN        NaN\n"
     ]
    }
   ],
   "source": [
    "loc_df = read_file(loc_file)[[\"ParticipantId\",\"Latitude\",\"Longitude\",\"Timestamp\"]]\n",
    "loc_df.columns = [\"PID\",\"Latitude\",\"Longitude\",\"Timestamp\"] # reset column name\n",
    "loc_df[['PID','Latitude', 'Longitude']] = loc_df[['PID','Latitude', 'Longitude']].apply(pd.to_numeric,\n",
    "                                                            errors='coerce',\n",
    "                                                            downcast=\"float\") # change variable type\n",
    "loc_df.set_index(['Timestamp'], inplace=True) # set timestamp as index \n",
    "loc_df = loc_df.resample(\"S\").mean().reset_index() # resample by second\n",
    "print(loc_df.shape)\n",
    "print(loc_df[:5])"
   ]
  },
  {
   "cell_type": "code",
   "execution_count": 96,
   "metadata": {},
   "outputs": [
    {
     "name": "stdout",
     "output_type": "stream",
     "text": [
      "(61468, 6)\n",
      "(1075, 6)\n"
     ]
    }
   ],
   "source": [
    "hr_acc_df = pd.merge(hr_df, acc_df, how=\"inner\", on=[\"Timestamp\", \"PID\"])\n",
    "print(hr_acc_df.shape)\n",
    "hr_acc_df = hr_acc_df.dropna()\n",
    "print(hr_acc_df.shape)"
   ]
  },
  {
   "cell_type": "code",
   "execution_count": 97,
   "metadata": {},
   "outputs": [
    {
     "name": "stdout",
     "output_type": "stream",
     "text": [
      "(43, 8)\n",
      "(43, 8)\n"
     ]
    }
   ],
   "source": [
    "combined_df = pd.merge(hr_acc_df, loc_df, how=\"inner\", on=[\"Timestamp\", \"PID\"])\n",
    "print(combined_df.shape)\n",
    "combined_df = combined_df.dropna()\n",
    "print(combined_df.shape)"
   ]
  },
  {
   "cell_type": "code",
   "execution_count": 98,
   "metadata": {},
   "outputs": [
    {
     "name": "stdout",
     "output_type": "stream",
     "text": [
      "            Timestamp  PID    HR         X         Y         Z   Latitude  \\\n",
      "0 2018-11-02 04:00:30  9.0  68.0 -0.009509 -0.060902 -0.986722  38.015347   \n",
      "1 2018-11-02 04:02:28  9.0  67.0  0.041428 -0.024105 -0.982643  38.015347   \n",
      "2 2018-11-02 04:05:06  9.0  67.0 -0.016170 -0.046767 -0.987743  38.015347   \n",
      "3 2018-11-02 04:10:36  9.0  75.0 -0.011375 -0.031504 -0.987657  38.015347   \n",
      "4 2018-11-02 04:14:40  9.0  97.0 -0.008729 -0.193506 -1.023444  38.015347   \n",
      "\n",
      "   Longitude  \n",
      "0 -78.522087  \n",
      "1 -78.522087  \n",
      "2 -78.522087  \n",
      "3 -78.522087  \n",
      "4 -78.522087  \n"
     ]
    }
   ],
   "source": [
    "print(combined_df[:5])"
   ]
  }
 ],
 "metadata": {
  "kernelspec": {
   "display_name": "Python 3",
   "language": "python",
   "name": "python3"
  },
  "language_info": {
   "codemirror_mode": {
    "name": "ipython",
    "version": 3
   },
   "file_extension": ".py",
   "mimetype": "text/x-python",
   "name": "python",
   "nbconvert_exporter": "python",
   "pygments_lexer": "ipython3",
   "version": "3.6.4"
  }
 },
 "nbformat": 4,
 "nbformat_minor": 2
}
